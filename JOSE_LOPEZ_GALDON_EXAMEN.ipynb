{
 "cells": [
  {
   "cell_type": "markdown",
   "metadata": {},
   "source": [
    "# TAREA FINAL: Datos de vivienda\n",
    "\n",
    "### JOSE LÓPEZ GALDÓN\n",
    "\n",
    "<p> El negocio inmobiliario es uno de los motores de la economía de España, el carácter turístico de nuesta península hace que sean muchos los inversores extranjeros que se decidan por buscar una inversión de bajo riesgos en nuestras ciudades costeras o grandes urbes. \n",
    "Muchas de estas inversiones se hacen sobre grandes bolsas de inmuebles que deben ser analizados previamente para comprobar la rentabilidad del porfolio </p>\n",
    "\n",
    "<!-- <p> En este caso vamos a trabajar con una tabla que contienen información de distintos inmuebles repartidos por una zona específica, sus carácterísticas y su precio </p>  -->"
   ]
  },
  {
   "cell_type": "markdown",
   "metadata": {},
   "source": [
    "Todas las cuestiones se deben realizar sobre el conjunto de casos que representen viviendas ubicadas en zonas residenciales **(alta, media y baja densidad)**"
   ]
  },
  {
   "cell_type": "markdown",
   "metadata": {},
   "source": [
    "**MUY IMPORTANTE:** En las otras prácticas he detectado colaboraciones involucrando varias personas y he sido flexible aunque a algunos os lo he mencionado en las correcciones, porque al final el trabajo de analista de datos es un trabajo colaborativo. Sin embargo, este trabajo es individual, así que cuidado con las colaboraciones."
   ]
  },
  {
   "cell_type": "markdown",
   "metadata": {},
   "source": [
    "Las variables de las que se compone el dataset son:"
   ]
  },
  {
   "cell_type": "markdown",
   "metadata": {},
   "source": [
    "|NOMBRE VARIABLE|DESCRIPTOR|VALORES|\n",
    "| --- | --- | --- |\n",
    "|Order|Variable de identificación|1 a 2930|\n",
    "|MS Zoning|Zona de ubicación de la vivienda|\"A rural, C comercial, FV residencial flotante, I industrial, RH residencial alta densidad, RL residencial baja densidad, RM residencial media densidad\"|\n",
    "|Lot Frontage|Longitud de la fachada en pies||\n",
    "|Lot Area|Superficie de la vivienda en pies cuadrados||\n",
    "|Land Contour|Contorno del terreno circundante|\"Lvl llano, Bnk Tipo bancal, HLS Ladera, Low Depresión\"|\n",
    "|Land Slope|Tipo de pendiente de la vivienda|\" Gtl pendiente suave, Mod pendiente moderada, Sev fuerte pendiente\"|\n",
    "|Overall Qual|Grado de calidad de materiales y acabado de la vivienda|De 1 (Muy pobre) a 10 (Excelente)|\n",
    "|Year Built|Año de construccion de la vivienda||\n",
    "|Year Remod/Add|Año de última reforma de la vivienda||\n",
    "|Mas Vnr Type|Tipo de revestimiento exterior|\" BrkCmn Ladrillo normal, BrkFace Ladrillo visto, CBlock Bloque de cemento, None Ninguna, Stone Piedra \"|\n",
    "|Exter Qual|Calidad de revestimiento exterior|\"Ex Excelente,Gd Bueno,TA Media,Fa Justo\"|\n",
    "|Bsmt Cond|Estado general del sótano|\"Ex Excelente, Gd Bueno, TA Media, Fa Justo, Po Pobre,Ss sin sótano\"|\n",
    "|Total Bsmt SF|Superficie del sótano en pies cuadrados|\n",
    "|Heating QC|Calidad de la calefacción|\"Ex Excelente,Gd Bueno,TA Media,Fa Justo,Po Pobre\"|\n",
    "|Central Air|Aire acondicionado centralizado|\"N No Y Sí\"|\n",
    "|Full Bath|Número de baños completo en planta||\n",
    "|Half Bath|Número de aseos en planta||\n",
    "|Bedroom AbvGr|Número de dormitorios en planta||\n",
    "|Kitchen AbvGr|Número de cocinas en planta||\n",
    "|Kitchen Qual|Calidad de cocinas|\"Ex Excelente,Gd Bueno,TA Media,Fa Justo,Po Pobre\"|\n",
    "|TotRms AbvGrd|Número total de habitaciones excluidos los cuartos de baño||\n",
    "|Garage Cars|Número de plazas de garaje||\n",
    "|Garage Area|Superficie del garaje|||\n",
    "|Garage Cond|Estado del garaje|\"Ex Excelente,Gd Bueno,TA Media,Fa Justo,Po Pobre,Sg sin garaje\"|\n",
    "|Pool Area|Superficie de la piscina en pies cuadrados|\n",
    "|Pool QC|Calidad de la piscina|\"Ex Excelente,Gd Bueno,TA Media,Fa Justo,Sp no hay piscina\"|\n",
    "|Mo Sold|mes de venta||\n",
    "|Yr Sold|año de venta||\n",
    "|SalePrice|precio de venta en dólares||"
   ]
  },
  {
   "cell_type": "markdown",
   "metadata": {},
   "source": [
    "Recomiendo al leer los datos, eliminar espacios de los nombres de las columnas, realiza un pequeño análisis inicial de los mismos. No olvides fijarte en los tipos de variables, que variables pueden tener tipos confundidos y corrige los. Sobre todo, trabaja con las fechas."
   ]
  },
  {
   "cell_type": "markdown",
   "metadata": {},
   "source": [
    "**NOTA:** Las tareas complementarias sirven para subir nota. El resto de preguntas valen igual y suman 10 puntos."
   ]
  },
  {
   "cell_type": "markdown",
   "metadata": {},
   "source": [
    "## Inicializar y cargar el contexto spark"
   ]
  },
  {
   "cell_type": "markdown",
   "metadata": {},
   "source": [
    "En primer lugar, iniciaremos spark context..."
   ]
  },
  {
   "cell_type": "code",
   "execution_count": 1,
   "metadata": {},
   "outputs": [],
   "source": [
    "from pyspark import SparkContext\n",
    "sc = SparkContext.getOrCreate()\n",
    "\n",
    "    # Como trabajaremos con sparksql, también lo introducimos\n",
    "from pyspark.sql import SparkSession\n",
    "spark = SparkSession.builder.master(\"local[*]\").getOrCreate()\n",
    "\n",
    "    # Funciones pyspark.sql\n",
    "from pyspark.sql.functions import isnan, when, count, col, avg, udf, desc, array\n",
    "from pyspark.sql.types import StringType"
   ]
  },
  {
   "cell_type": "markdown",
   "metadata": {},
   "source": [
    "#### Carga de datos"
   ]
  },
  {
   "cell_type": "markdown",
   "metadata": {},
   "source": [
    "Una vez tenemos spark iniciado cargamos el dataset:"
   ]
  },
  {
   "cell_type": "code",
   "execution_count": 2,
   "metadata": {},
   "outputs": [
    {
     "data": {
      "text/plain": [
       "['Order;MS Zoning;Lot Frontage;Lot Area;Land Contour;Land Slope;Overall Qual;Year Built;Year Remod/Add;Mas Vnr Type;Exter Qual;Bsmt Cond;Total Bsmt SF;Heating QC;Central Air;Full Bath;Half Bath;Bedroom AbvGr;Kitchen AbvGr;Kitchen Qual;TotRms AbvGrd;Garage Cars;Garage Area;Garage Cond;Pool Area;Pool QC;Mo Sold;Yr Sold;SalePrice',\n",
       " '1;RL;141;31770;Lvl;Gtl;6;1960;1960;Stone;TA;Gd;1080;Fa;Y;1;0;3;1;TA;7;2;528;TA;0;Sp;5;2010;215000',\n",
       " '2;RH;80;11622;Lvl;Gtl;5;1961;1961;None;TA;TA;882;TA;Y;1;0;2;1;TA;5;1;730;TA;0;Sp;6;2010;105000',\n",
       " '3;RL;81;14267;Lvl;Gtl;6;1958;1958;BrkFace;TA;TA;1329;TA;Y;1;1;3;1;Gd;6;1;312;TA;0;Sp;6;2010;172000',\n",
       " '4;RL;93;11160;Lvl;Gtl;7;1968;1968;None;Gd;TA;2110;Ex;Y;2;1;3;1;Ex;8;2;522;TA;0;Sp;4;2010;244000']"
      ]
     },
     "execution_count": 2,
     "metadata": {},
     "output_type": "execute_result"
    }
   ],
   "source": [
    "    # Creamos un objeto con la ruta del archivo:\n",
    "ruta_fichero = \"./data/BDpracticafinalCSV.csv\"\n",
    "\n",
    "    # Cargamos los datos sin tratar\n",
    "raw_data = sc.textFile(ruta_fichero)\n",
    "\n",
    "    # Vemos las 5 primeras filas para ver la estructura de los datos\n",
    "raw_data.take(5)"
   ]
  },
  {
   "cell_type": "code",
   "execution_count": 3,
   "metadata": {},
   "outputs": [
    {
     "data": {
      "text/plain": [
       "2937"
      ]
     },
     "execution_count": 3,
     "metadata": {},
     "output_type": "execute_result"
    }
   ],
   "source": [
    "    # Contamos los registros\n",
    "raw_data.count()"
   ]
  },
  {
   "cell_type": "markdown",
   "metadata": {},
   "source": [
    "Como podemos observar, tenemos una cabecera en los datos que tendremos que eliminar para el parseado, además ya vemos como `;` es el separador en este fichero. Por último, tenemos 2397 registros (contando la cabecera)."
   ]
  },
  {
   "cell_type": "code",
   "execution_count": 4,
   "metadata": {},
   "outputs": [
    {
     "name": "stdout",
     "output_type": "stream",
     "text": [
      "<class 'pyspark.sql.dataframe.DataFrame'>\n"
     ]
    }
   ],
   "source": [
    "    # Cargamos los datos con spark\n",
    "raw_dataframe = spark.read.format(\"csv\") \\\n",
    "                          .option(\"sep\", \";\") \\\n",
    "                          .option(\"inferSchema\", \"true\") \\\n",
    "                          .option(\"header\", \"true\") \\\n",
    "                          .load(f'{ruta_fichero}')\n",
    "\n",
    "    # Vemos el tipo de objeto creado\n",
    "print(type(raw_dataframe))"
   ]
  },
  {
   "cell_type": "markdown",
   "metadata": {},
   "source": [
    "Comprobaremos que está bien con un `take()` y un `count()`:"
   ]
  },
  {
   "cell_type": "code",
   "execution_count": 5,
   "metadata": {},
   "outputs": [
    {
     "data": {
      "text/plain": [
       "[Row(Order=1, MS Zoning='RL', Lot Frontage=141, Lot Area=31770, Land Contour='Lvl', Land Slope='Gtl', Overall Qual=6, Year Built=1960, Year Remod/Add=1960, Mas Vnr Type='Stone', Exter Qual='TA', Bsmt Cond='Gd', Total Bsmt SF=1080, Heating QC='Fa', Central Air='Y', Full Bath=1, Half Bath=0, Bedroom AbvGr=3, Kitchen AbvGr=1, Kitchen Qual='TA', TotRms AbvGrd=7, Garage Cars=2, Garage Area=528, Garage Cond='TA', Pool Area=0, Pool QC='Sp', Mo Sold=5, Yr Sold=2010, SalePrice=215000)]"
      ]
     },
     "execution_count": 5,
     "metadata": {},
     "output_type": "execute_result"
    }
   ],
   "source": [
    "raw_dataframe.take(1)"
   ]
  },
  {
   "cell_type": "code",
   "execution_count": 6,
   "metadata": {},
   "outputs": [
    {
     "data": {
      "text/plain": [
       "2936"
      ]
     },
     "execution_count": 6,
     "metadata": {},
     "output_type": "execute_result"
    }
   ],
   "source": [
    "raw_dataframe.count()"
   ]
  },
  {
   "cell_type": "markdown",
   "metadata": {},
   "source": [
    "Tal y como podemos observar tenemos correctamente cargado el dataset, ya que el tamaño coincide con el original.\n",
    "\n",
    "Según el enunciado:\n",
    "\n",
    "*Todas las cuestiones se deben realizar sobre el conjunto de casos que representen viviendas ubicadas en zonas residenciales (alta, media y baja densidad)*\n",
    "\n",
    "Es por ello, por lo que seleccionaremos solo las viviendas ubicadas en dichas zonas residenciales..."
   ]
  },
  {
   "cell_type": "code",
   "execution_count": 7,
   "metadata": {},
   "outputs": [
    {
     "name": "stdout",
     "output_type": "stream",
     "text": [
      "+---------+\n",
      "|MS Zoning|\n",
      "+---------+\n",
      "|       RH|\n",
      "|       FV|\n",
      "|        C|\n",
      "|        A|\n",
      "|       Rl|\n",
      "|       RL|\n",
      "|       rL|\n",
      "|        I|\n",
      "|       RM|\n",
      "+---------+\n",
      "\n"
     ]
    }
   ],
   "source": [
    "    # Primero comporbamos los distintos tipos de zonas que exsiten...\n",
    "raw_dataframe.select(\"MS Zoning\").distinct().show()"
   ]
  },
  {
   "cell_type": "markdown",
   "metadata": {},
   "source": [
    "Al parecer existen 9 zonas, cuando en el diccionario aparecen 7, es por ello, que trataremos las zonas `Rl` y `rL` como zonas de baja densidad (`RL`). En nuestro caso, transformaremos estas dos zonas extras:"
   ]
  },
  {
   "cell_type": "code",
   "execution_count": 8,
   "metadata": {},
   "outputs": [
    {
     "name": "stdout",
     "output_type": "stream",
     "text": [
      "+---------+\n",
      "|MS Zoning|\n",
      "+---------+\n",
      "|       RH|\n",
      "|       FV|\n",
      "|        C|\n",
      "|        A|\n",
      "|       RL|\n",
      "|        I|\n",
      "|       RM|\n",
      "+---------+\n",
      "\n"
     ]
    }
   ],
   "source": [
    "def renombrar_zona(x):\n",
    "    if x == \"rL\":\n",
    "        return \"RL\"\n",
    "    elif x == \"Rl\":\n",
    "        return \"RL\"\n",
    "    else:\n",
    "        return x\n",
    "\n",
    "    # Definimos la funcion udf\n",
    "renombrar_zona_udf = udf(renombrar_zona)\n",
    "\n",
    "    # Aplicamos la funcion creando una nueva columna\n",
    "raw_dataframe = raw_dataframe.withColumn(\"Ms Zoning\", renombrar_zona_udf(raw_dataframe[\"Ms Zoning\"]))\n",
    "\n",
    "    # Comprobamos si ha cambiado\n",
    "raw_dataframe.select(\"MS Zoning\").distinct().show()"
   ]
  },
  {
   "cell_type": "markdown",
   "metadata": {},
   "source": [
    "Una vez hemos solucionado el problema de las zonas mal asignadas podemos filtrar:"
   ]
  },
  {
   "cell_type": "code",
   "execution_count": 9,
   "metadata": {},
   "outputs": [
    {
     "name": "stdout",
     "output_type": "stream",
     "text": [
      "+---------+\n",
      "|MS Zoning|\n",
      "+---------+\n",
      "|       RH|\n",
      "|       RL|\n",
      "|       RM|\n",
      "+---------+\n",
      "\n"
     ]
    }
   ],
   "source": [
    "    # Para ello, filtramos aquellos que cumplan dicha condición:\n",
    "data = raw_dataframe.filter((raw_dataframe[1] == \"RL\") | \n",
    "                            (raw_dataframe[1] == \"RM\") | \n",
    "                            (raw_dataframe[1] == \"RH\")\n",
    "                           )\n",
    "\n",
    "    # Comprobamos si es correcto\n",
    "data.select(\"MS Zoning\").distinct().show()"
   ]
  },
  {
   "cell_type": "markdown",
   "metadata": {},
   "source": [
    "Ahora tenemos solo esos 3 tipos de vivienda. Con el dataset final realizaremos un breve análisis exploratorio para ver el tipo de datos que tenemos."
   ]
  },
  {
   "cell_type": "markdown",
   "metadata": {},
   "source": [
    "#### EDA"
   ]
  },
  {
   "cell_type": "code",
   "execution_count": 10,
   "metadata": {},
   "outputs": [
    {
     "name": "stdout",
     "output_type": "stream",
     "text": [
      "root\n",
      " |-- Order: integer (nullable = true)\n",
      " |-- Ms Zoning: string (nullable = true)\n",
      " |-- Lot Frontage: integer (nullable = true)\n",
      " |-- Lot Area: integer (nullable = true)\n",
      " |-- Land Contour: string (nullable = true)\n",
      " |-- Land Slope: string (nullable = true)\n",
      " |-- Overall Qual: integer (nullable = true)\n",
      " |-- Year Built: integer (nullable = true)\n",
      " |-- Year Remod/Add: integer (nullable = true)\n",
      " |-- Mas Vnr Type: string (nullable = true)\n",
      " |-- Exter Qual: string (nullable = true)\n",
      " |-- Bsmt Cond: string (nullable = true)\n",
      " |-- Total Bsmt SF: integer (nullable = true)\n",
      " |-- Heating QC: string (nullable = true)\n",
      " |-- Central Air: string (nullable = true)\n",
      " |-- Full Bath: integer (nullable = true)\n",
      " |-- Half Bath: integer (nullable = true)\n",
      " |-- Bedroom AbvGr: integer (nullable = true)\n",
      " |-- Kitchen AbvGr: integer (nullable = true)\n",
      " |-- Kitchen Qual: string (nullable = true)\n",
      " |-- TotRms AbvGrd: integer (nullable = true)\n",
      " |-- Garage Cars: integer (nullable = true)\n",
      " |-- Garage Area: integer (nullable = true)\n",
      " |-- Garage Cond: string (nullable = true)\n",
      " |-- Pool Area: integer (nullable = true)\n",
      " |-- Pool QC: string (nullable = true)\n",
      " |-- Mo Sold: integer (nullable = true)\n",
      " |-- Yr Sold: integer (nullable = true)\n",
      " |-- SalePrice: integer (nullable = true)\n",
      "\n"
     ]
    }
   ],
   "source": [
    "    # Esquema de los datos\n",
    "data.printSchema()"
   ]
  },
  {
   "cell_type": "code",
   "execution_count": 11,
   "metadata": {},
   "outputs": [
    {
     "data": {
      "text/plain": [
       "2768"
      ]
     },
     "execution_count": 11,
     "metadata": {},
     "output_type": "execute_result"
    }
   ],
   "source": [
    "    # Número de registros\n",
    "data.count()"
   ]
  },
  {
   "cell_type": "markdown",
   "metadata": {},
   "source": [
    "##### Describe"
   ]
  },
  {
   "cell_type": "markdown",
   "metadata": {},
   "source": [
    "A continuación, realizaremos un resumen estadístico de algunas variables numéricas interesantes en relación a las viviendas:"
   ]
  },
  {
   "cell_type": "code",
   "execution_count": 12,
   "metadata": {},
   "outputs": [
    {
     "name": "stdout",
     "output_type": "stream",
     "text": [
      "+-------+------------------+------------------+-----------------+------------------+------------------+------------------+\n",
      "|summary|      Lot Frontage|          Lot Area|     Overall Qual|        Year Built|    Year Remod/Add|         SalePrice|\n",
      "+-------+------------------+------------------+-----------------+------------------+------------------+------------------+\n",
      "|  count|              2299|              2768|             2768|              2768|              2768|              2768|\n",
      "|   mean| 69.73988690735102|10317.078034682081|6.062861271676301| 1970.282514450867|1983.5346820809248|180088.75325144507|\n",
      "| stddev|23.175405359221397| 7966.366783053235|1.388561633913873|29.739898071387287|20.722726538770374| 80228.44913004969|\n",
      "|    min|                21|              1300|                1|              1872|              1950|             12789|\n",
      "|    max|               313|            215245|               10|              2010|              2010|            755000|\n",
      "+-------+------------------+------------------+-----------------+------------------+------------------+------------------+\n",
      "\n"
     ]
    }
   ],
   "source": [
    "data.select(\"Lot Frontage\", \"Lot Area\", \"Overall Qual\", \"Year Built\", \"Year Remod/Add\", \"SalePrice\").describe().show()"
   ]
  },
  {
   "cell_type": "markdown",
   "metadata": {},
   "source": [
    "De la tabla superiir podemos extraer las siguientes conclusiones:\n",
    "\n",
    "- Se trata de viviendas con un tamaño medio de 10312 pies cuadrados, sin embargo, existe una gran desviación entre los tamaños.\n",
    "- La calidad media de las viviendas es mediocre, ya que se sitúa en 6/10.\n",
    "- El año de construcción medio de las viviendas es 1970, y el de reconstrucción es 1983, por lo que, a priori, a los 10-15 años las casas suelen recibir las primeras reformas importantes.\n",
    "- Por último, el precio de venta medio son 180000 $"
   ]
  },
  {
   "cell_type": "markdown",
   "metadata": {},
   "source": [
    "##### Valores nulos"
   ]
  },
  {
   "cell_type": "markdown",
   "metadata": {},
   "source": [
    "En cuanto a los valores nulos:"
   ]
  },
  {
   "cell_type": "code",
   "execution_count": 13,
   "metadata": {},
   "outputs": [
    {
     "data": {
      "text/plain": [
       "{'Order': 0,\n",
       " 'Ms Zoning': 0,\n",
       " 'Lot Frontage': 469,\n",
       " 'Lot Area': 0,\n",
       " 'Land Contour': 0,\n",
       " 'Land Slope': 0,\n",
       " 'Overall Qual': 0,\n",
       " 'Year Built': 0,\n",
       " 'Year Remod/Add': 0,\n",
       " 'Mas Vnr Type': 16,\n",
       " 'Exter Qual': 0,\n",
       " 'Bsmt Cond': 0,\n",
       " 'Total Bsmt SF': 0,\n",
       " 'Heating QC': 0,\n",
       " 'Central Air': 0,\n",
       " 'Full Bath': 0,\n",
       " 'Half Bath': 0,\n",
       " 'Bedroom AbvGr': 0,\n",
       " 'Kitchen AbvGr': 0,\n",
       " 'Kitchen Qual': 0,\n",
       " 'TotRms AbvGrd': 0,\n",
       " 'Garage Cars': 1,\n",
       " 'Garage Area': 1,\n",
       " 'Garage Cond': 2,\n",
       " 'Pool Area': 0,\n",
       " 'Pool QC': 0,\n",
       " 'Mo Sold': 0,\n",
       " 'Yr Sold': 0,\n",
       " 'SalePrice': 0}"
      ]
     },
     "execution_count": 13,
     "metadata": {},
     "output_type": "execute_result"
    }
   ],
   "source": [
    "Dict_Null = {col:data.filter(data[col].isNull()).count() for col in data.columns}\n",
    "Dict_Null"
   ]
  },
  {
   "cell_type": "markdown",
   "metadata": {},
   "source": [
    "Tal y como podemos observar, tenemos 469 valores nulos en la variable `Lot Frontage`, 16 en la variable `Mas Vnr Type` y ciertos nulos en las variables relacionados con las características del garaje."
   ]
  },
  {
   "cell_type": "markdown",
   "metadata": {},
   "source": [
    "## Cuántas viviendas distintas encontramos en el dataset? ¿Se repite alguna? Tiene sentido que haya duplicadas? ¿Qué podemos hacer con las duplicadas?"
   ]
  },
  {
   "cell_type": "markdown",
   "metadata": {},
   "source": [
    "Para comprobar el número de viviendas en el dataset utilizaremos la función `count()`, si queremos saber si existen viviendas duplicadas, podemos agrupar por la variable *Order* que es el identificador de la vivienda y seleccionar aquellas que se repitan más de una vez."
   ]
  },
  {
   "cell_type": "code",
   "execution_count": 14,
   "metadata": {},
   "outputs": [
    {
     "data": {
      "text/plain": [
       "'Hay un total de 2768 viviendas en la base de datos.'"
      ]
     },
     "execution_count": 14,
     "metadata": {},
     "output_type": "execute_result"
    }
   ],
   "source": [
    "    # Contamos el número total de viviendas\n",
    "f'Hay un total de {data.count()} viviendas en la base de datos.'"
   ]
  },
  {
   "cell_type": "code",
   "execution_count": 15,
   "metadata": {},
   "outputs": [
    {
     "name": "stdout",
     "output_type": "stream",
     "text": [
      "+-----+-----+\n",
      "|Order|count|\n",
      "+-----+-----+\n",
      "| 2898|    2|\n",
      "| 2930|    2|\n",
      "| 2929|    2|\n",
      "| 2901|    2|\n",
      "| 2899|    2|\n",
      "| 2900|    2|\n",
      "+-----+-----+\n",
      "\n"
     ]
    }
   ],
   "source": [
    "    # Agrupamos por el identificador y contamos, con la siguiente condición: muestra solo aquellas que salgan más de una vez\n",
    "data.groupBy(\"Order\").count().where(\"count > 1\").show()"
   ]
  },
  {
   "cell_type": "markdown",
   "metadata": {},
   "source": [
    "Como podemos ver en la tabla superior existen 6 viviendas que están repetidas en el dataset. Normalmente los valores duplicados los eliminamos de las bases de datos, ya que se deben a errores."
   ]
  },
  {
   "cell_type": "code",
   "execution_count": 16,
   "metadata": {},
   "outputs": [
    {
     "data": {
      "text/plain": [
       "[Row(Order=2898, Ms Zoning='RL', Lot Frontage=None, Lot Area=11170, Land Contour='Lvl', Land Slope='Gtl', Overall Qual=7, Year Built=1990, Year Remod/Add=1991, Mas Vnr Type='None', Exter Qual='TA', Bsmt Cond='TA', Total Bsmt SF=1216, Heating QC='Ex', Central Air='Y', Full Bath=2, Half Bath=1, Bedroom AbvGr=4, Kitchen AbvGr=1, Kitchen Qual='TA', TotRms AbvGrd=8, Garage Cars=2, Garage Area=693, Garage Cond='TA', Pool Area=0, Pool QC='Sp', Mo Sold=4, Yr Sold=2006, SalePrice=250000),\n",
       " Row(Order=2898, Ms Zoning='RL', Lot Frontage=None, Lot Area=11170, Land Contour='Lvl', Land Slope='Gtl', Overall Qual=7, Year Built=1990, Year Remod/Add=1991, Mas Vnr Type='None', Exter Qual='TA', Bsmt Cond='TA', Total Bsmt SF=1216, Heating QC='Ex', Central Air='Y', Full Bath=2, Half Bath=1, Bedroom AbvGr=4, Kitchen AbvGr=1, Kitchen Qual='TA', TotRms AbvGrd=8, Garage Cars=2, Garage Area=693, Garage Cond='TA', Pool Area=0, Pool QC='Sp', Mo Sold=4, Yr Sold=2006, SalePrice=250000)]"
      ]
     },
     "execution_count": 16,
     "metadata": {},
     "output_type": "execute_result"
    }
   ],
   "source": [
    "data.filter((data[0] == 2898)).collect()"
   ]
  },
  {
   "cell_type": "markdown",
   "metadata": {},
   "source": [
    "En este caso, vemos como todos los campos son iguales para la vivienda 2898, por lo tanto se debe a un error, lo que nos llevaría a eliminar estos valores duplicados. Sin embargo, deberíamos estudiar cada caso en particular ya que puede ser que sea la misma vivienda, pero con una reforma lo que haga que cambien sus características y su precio. También puede darse el caso que una misma vivienda se venda 2 veces utilizándose el mismo identificador. Por lo tanto, puede tener sentido que existan viviendas duplicadas en el dataset, en el caso que tuviesemos la seguridad de ser un error, eliminaríamos los valores duplicados utilizando `drop()`."
   ]
  },
  {
   "cell_type": "markdown",
   "metadata": {},
   "source": [
    "## ¿Podrías decirme el total de inmuebles y el precio medio (Sale Price) de cada zona (MS Zoning)?"
   ]
  },
  {
   "cell_type": "markdown",
   "metadata": {},
   "source": [
    "Para saber el total de inmuebles por zona y el precio medio de dicha zona, lo que haremos será agrupar por la variable *Ms Zoning* utilizando la función `groupBy()`."
   ]
  },
  {
   "cell_type": "code",
   "execution_count": 17,
   "metadata": {},
   "outputs": [
    {
     "name": "stdout",
     "output_type": "stream",
     "text": [
      "+---------+------------------+---------------+\n",
      "|Ms Zoning|      Precio Medio|Total Inmuebles|\n",
      "+---------+------------------+---------------+\n",
      "|       RH|136419.77777777778|             27|\n",
      "|       RL| 191412.6068451075|           2279|\n",
      "|       RM|126781.39393939394|            462|\n",
      "+---------+------------------+---------------+\n",
      "\n"
     ]
    }
   ],
   "source": [
    "    # Utilizamos la función agg() para calcular la media y contar los registros y renombramos las columnas con withColumnRenamed\n",
    "data.groupBy(\"Ms Zoning\").agg(avg(\"SalePrice\"),\n",
    "                              count(\"Order\")) \\\n",
    "                         .withColumnRenamed(\"avg(SalePrice)\", \"Precio Medio\") \\\n",
    "                         .withColumnRenamed(\"count(Order)\", \"Total Inmuebles\") \\\n",
    "                         .show()"
   ]
  },
  {
   "cell_type": "markdown",
   "metadata": {},
   "source": [
    "## Media de Total Bsmt SF por cada década de construcción calculada a partir de Year Built. "
   ]
  },
  {
   "cell_type": "markdown",
   "metadata": {},
   "source": [
    "En primer lugar, definiremos una función que obtenga la década de los años, lo siguiente será modificar el formato de la variable *Year Built* para que la función creada realice la transformación. Una vez hecho esto, generaremos un nuevo dataset con la década y, por último, agruparemos por década y obtendremos la media de la superficie del sótano."
   ]
  },
  {
   "cell_type": "code",
   "execution_count": 18,
   "metadata": {},
   "outputs": [
    {
     "data": {
      "text/plain": [
       "'1990s'"
      ]
     },
     "execution_count": 18,
     "metadata": {},
     "output_type": "execute_result"
    }
   ],
   "source": [
    "# Definimos la función\n",
    "def decade(x):\n",
    "    return x[0:3] + \"0s\"\n",
    "\n",
    "    # Comprobamos que funciona\n",
    "decade(\"1999\")"
   ]
  },
  {
   "cell_type": "code",
   "execution_count": 19,
   "metadata": {},
   "outputs": [
    {
     "data": {
      "text/plain": [
       "[Row(Order=1, Ms Zoning='RL', Lot Frontage=141, Lot Area=31770, Land Contour='Lvl', Land Slope='Gtl', Overall Qual=6, Year Built='1960', Year Remod/Add=1960, Mas Vnr Type='Stone', Exter Qual='TA', Bsmt Cond='Gd', Total Bsmt SF=1080, Heating QC='Fa', Central Air='Y', Full Bath=1, Half Bath=0, Bedroom AbvGr=3, Kitchen AbvGr=1, Kitchen Qual='TA', TotRms AbvGrd=7, Garage Cars=2, Garage Area=528, Garage Cond='TA', Pool Area=0, Pool QC='Sp', Mo Sold=5, Yr Sold=2010, SalePrice=215000, decade='1960s')]"
      ]
     },
     "execution_count": 19,
     "metadata": {},
     "output_type": "execute_result"
    }
   ],
   "source": [
    "    # Transformamos la columna Year Built a string\n",
    "data_decada = data.withColumn(\"Year Built\", data[\"Year Built\"].cast(StringType()))\n",
    "\n",
    "    # Definimos la funcion udf\n",
    "decade_udf = udf(decade)\n",
    "\n",
    "    # Aplicamos la funcion creando una nueva columna\n",
    "data_decada = data_decada.withColumn(\"decade\", decade_udf(data_decada[7]))\n",
    "    \n",
    "    # Comprobamos que funciona\n",
    "data_decada.take(1)"
   ]
  },
  {
   "cell_type": "code",
   "execution_count": 20,
   "metadata": {},
   "outputs": [
    {
     "name": "stdout",
     "output_type": "stream",
     "text": [
      "+----------------------+---------------------------+\n",
      "|Década de construcción|Superficie media del sótano|\n",
      "+----------------------+---------------------------+\n",
      "|                 2010s|                     1539.0|\n",
      "|                 2000s|         1349.7657657657658|\n",
      "|                 1990s|                     1138.6|\n",
      "|                 1980s|                     1086.0|\n",
      "|                 1970s|           953.917808219178|\n",
      "|                 1960s|          1082.672268907563|\n",
      "|                 1950s|          968.2955223880597|\n",
      "|                 1940s|          706.9261744966443|\n",
      "|                 1930s|          769.9158878504672|\n",
      "|                 1920s|          833.9368421052632|\n",
      "|                 1910s|          788.3009708737864|\n",
      "|                 1900s|          720.1388888888889|\n",
      "|                 1890s|          885.5833333333334|\n",
      "|                 1880s|                      836.0|\n",
      "|                 1870s|                      761.0|\n",
      "+----------------------+---------------------------+\n",
      "\n"
     ]
    }
   ],
   "source": [
    "    # Por último, calculamos la media de Total Bsmt SF por decada\n",
    "data_decada.groupBy(\"decade\").avg(\"Total Bsmt SF\") \\\n",
    "                             .withColumnRenamed(\"avg(Total Bsmt SF)\", \"Superficie media del sótano\") \\\n",
    "                             .withColumnRenamed(\"decade\", \"Década de construcción\") \\\n",
    "                             .sort(desc(\"Década de construcción\")) \\\n",
    "                             .show()"
   ]
  },
  {
   "cell_type": "markdown",
   "metadata": {},
   "source": [
    "## ¿Cuál es la decada de construcción con viviendas mejor acondicionadas para el frío (Heating QC)?"
   ]
  },
  {
   "cell_type": "markdown",
   "metadata": {},
   "source": [
    "En este caso, volveremos a utilizar el dataset creado en el anterior apartado, ya que necesitamos la década de construcción... La intención es obtener la década de construcción con mayor número de viviendas mejor acondicionadas para el frío, es decir, que poseean un aislamiento Excelente (*Ex*), es por ello, que lo primero que realizaremos será seleccionar solo aquellas viviendas que sean excelentes en cuanto a calefacción y lo siguiente será, agrupar por década, contar las viviendas con *Heating QC Excellent*, ordenarlas de manera descente y mostrar el primer registro, dicho de otra manera, la década en la que más viviendas se construyeron con un mejor acondicionamiento para el frío."
   ]
  },
  {
   "cell_type": "code",
   "execution_count": 21,
   "metadata": {},
   "outputs": [
    {
     "name": "stdout",
     "output_type": "stream",
     "text": [
      "+------+-----------------+\n",
      "|decade|count(Heating QC)|\n",
      "+------+-----------------+\n",
      "| 2000s|              641|\n",
      "+------+-----------------+\n",
      "only showing top 1 row\n",
      "\n"
     ]
    }
   ],
   "source": [
    "data_decada.filter(data_decada[\"Heating QC\"] == \"Ex\") \\\n",
    "           .groupBy(\"decade\") \\\n",
    "           .agg(count(\"Heating QC\")) \\\n",
    "           .sort(desc(\"count(Heating QC)\")) \\\n",
    "           .show(1)"
   ]
  },
  {
   "cell_type": "markdown",
   "metadata": {},
   "source": [
    "Como podemos observar, la mejor década fue la del 2000."
   ]
  },
  {
   "cell_type": "markdown",
   "metadata": {},
   "source": [
    "## ¿Cuáles son las 10 viviendas que se vendieron por un precio más elevado por metro cuadrado en el año 2009?"
   ]
  },
  {
   "cell_type": "markdown",
   "metadata": {},
   "source": [
    "Para obtener las 10 viviendas que se vendieron por un precio más elevado por metro cuadrado en el año 2009 deberemos crear una nueva columna que contenga la información de precio por metro cuadrado, en nuestro caso, llamaremos a esta variable `square_foot_price`. Una vez tenemos la nueva columna, filtraremos aquellas viviendas vendidas durante el año 2009,  ordenaremos de manera descente por el precio por metro cuadrado y seleccionaremos los 10 primeros registros."
   ]
  },
  {
   "cell_type": "code",
   "execution_count": 22,
   "metadata": {},
   "outputs": [
    {
     "data": {
      "text/plain": [
       "[Row(Order=936, Ms Zoning='RM', Lot Frontage=24, Lot Area=1300, Land Contour='Lvl', Land Slope='Gtl', Overall Qual=6, Year Built=1980, Year Remod/Add=1980, Mas Vnr Type='None', Exter Qual='TA', Bsmt Cond='TA', Total Bsmt SF=561, Heating QC='TA', Central Air='Y', Full Bath=1, Half Bath=1, Bedroom AbvGr=2, Kitchen AbvGr=1, Kitchen Qual='TA', TotRms AbvGrd=5, Garage Cars=2, Garage Area=462, Garage Cond='TA', Pool Area=0, Pool QC='Sp', Mo Sold=5, Yr Sold=2009, SalePrice=124000, square_meters_price=1026.72),\n",
       " Row(Order=934, Ms Zoning='RM', Lot Frontage=24, Lot Area=1488, Land Contour='Lvl', Land Slope='Gtl', Overall Qual=6, Year Built=1980, Year Remod/Add=1992, Mas Vnr Type='None', Exter Qual='TA', Bsmt Cond='TA', Total Bsmt SF=561, Heating QC='TA', Central Air='Y', Full Bath=1, Half Bath=1, Bedroom AbvGr=2, Kitchen AbvGr=1, Kitchen Qual='Gd', TotRms AbvGrd=5, Garage Cars=2, Garage Area=462, Garage Cond='TA', Pool Area=0, Pool QC='Sp', Mo Sold=10, Yr Sold=2009, SalePrice=137000, square_meters_price=991.040322580645),\n",
       " Row(Order=464, Ms Zoning='RL', Lot Frontage=36, Lot Area=2268, Land Contour='Lvl', Land Slope='Gtl', Overall Qual=7, Year Built=2003, Year Remod/Add=2004, Mas Vnr Type='Stone', Exter Qual='Gd', Bsmt Cond='TA', Total Bsmt SF=764, Heating QC='Ex', Central Air='Y', Full Bath=2, Half Bath=0, Bedroom AbvGr=2, Kitchen AbvGr=1, Kitchen Qual='Gd', TotRms AbvGrd=6, Garage Cars=2, Garage Area=474, Garage Cond='TA', Pool Area=0, Pool QC='Sp', Mo Sold=7, Yr Sold=2009, SalePrice=173000, square_meters_price=821.0634920634919),\n",
       " Row(Order=935, Ms Zoning='RM', Lot Frontage=24, Lot Area=1612, Land Contour='Lvl', Land Slope='Gtl', Overall Qual=6, Year Built=1980, Year Remod/Add=1980, Mas Vnr Type='None', Exter Qual='TA', Bsmt Cond='TA', Total Bsmt SF=561, Heating QC='TA', Central Air='Y', Full Bath=1, Half Bath=1, Bedroom AbvGr=2, Kitchen AbvGr=1, Kitchen Qual='TA', TotRms AbvGrd=5, Garage Cars=2, Garage Area=462, Garage Cond='TA', Pool Area=0, Pool QC='Sp', Mo Sold=7, Yr Sold=2009, SalePrice=121000, square_meters_price=807.9677419354839),\n",
       " Row(Order=408, Ms Zoning='RM', Lot Frontage=21, Lot Area=1680, Land Contour='Lvl', Land Slope='Gtl', Overall Qual=5, Year Built=1972, Year Remod/Add=1972, Mas Vnr Type='BrkFace', Exter Qual='TA', Bsmt Cond='TA', Total Bsmt SF=630, Heating QC='TA', Central Air='Y', Full Bath=2, Half Bath=1, Bedroom AbvGr=3, Kitchen AbvGr=1, Kitchen Qual='TA', TotRms AbvGrd=6, Garage Cars=1, Garage Area=264, Garage Cond='TA', Pool Area=0, Pool QC='Sp', Mo Sold=2, Yr Sold=2009, SalePrice=119500, square_meters_price=765.6535714285715),\n",
       " Row(Order=407, Ms Zoning='RM', Lot Frontage=21, Lot Area=1680, Land Contour='Lvl', Land Slope='Gtl', Overall Qual=6, Year Built=1972, Year Remod/Add=2007, Mas Vnr Type='BrkFace', Exter Qual='TA', Bsmt Cond='TA', Total Bsmt SF=483, Heating QC='Gd', Central Air='Y', Full Bath=1, Half Bath=1, Bedroom AbvGr=2, Kitchen AbvGr=1, Kitchen Qual='Gd', TotRms AbvGrd=5, Garage Cars=1, Garage Area=264, Garage Cond='TA', Pool Area=0, Pool QC='Sp', Mo Sold=5, Yr Sold=2009, SalePrice=118000, square_meters_price=756.0428571428572),\n",
       " Row(Order=405, Ms Zoning='RM', Lot Frontage=21, Lot Area=1680, Land Contour='Lvl', Land Slope='Gtl', Overall Qual=5, Year Built=1971, Year Remod/Add=1971, Mas Vnr Type='BrkFace', Exter Qual='TA', Bsmt Cond='TA', Total Bsmt SF=630, Heating QC='TA', Central Air='Y', Full Bath=2, Half Bath=1, Bedroom AbvGr=3, Kitchen AbvGr=1, Kitchen Qual='TA', TotRms AbvGrd=6, Garage Cars=1, Garage Area=280, Garage Cond='TA', Pool Area=0, Pool QC='Sp', Mo Sold=5, Yr Sold=2009, SalePrice=112000, square_meters_price=717.6),\n",
       " Row(Order=933, Ms Zoning='RM', Lot Frontage=24, Lot Area=1733, Land Contour='Lvl', Land Slope='Gtl', Overall Qual=6, Year Built=1980, Year Remod/Add=1980, Mas Vnr Type='None', Exter Qual='TA', Bsmt Cond='TA', Total Bsmt SF=516, Heating QC='TA', Central Air='Y', Full Bath=1, Half Bath=0, Bedroom AbvGr=2, Kitchen AbvGr=1, Kitchen Qual='TA', TotRms AbvGrd=5, Garage Cars=2, Garage Area=452, Garage Cond='TA', Pool Area=0, Pool QC='Sp', Mo Sold=5, Yr Sold=2009, SalePrice=115000, square_meters_price=714.2873629544143),\n",
       " Row(Order=403, Ms Zoning='RM', Lot Frontage=21, Lot Area=1680, Land Contour='Lvl', Land Slope='Gtl', Overall Qual=6, Year Built=1973, Year Remod/Add=1973, Mas Vnr Type='BrkFace', Exter Qual='TA', Bsmt Cond='TA', Total Bsmt SF=483, Heating QC='TA', Central Air='Y', Full Bath=1, Half Bath=1, Bedroom AbvGr=2, Kitchen AbvGr=1, Kitchen Qual='TA', TotRms AbvGrd=5, Garage Cars=1, Garage Area=264, Garage Cond='TA', Pool Area=0, Pool QC='Sp', Mo Sold=7, Yr Sold=2009, SalePrice=111000, square_meters_price=711.1928571428572),\n",
       " Row(Order=411, Ms Zoning='RL', Lot Frontage=24, Lot Area=2280, Land Contour='Lvl', Land Slope='Gtl', Overall Qual=6, Year Built=1976, Year Remod/Add=1976, Mas Vnr Type='None', Exter Qual='TA', Bsmt Cond='TA', Total Bsmt SF=855, Heating QC='TA', Central Air='Y', Full Bath=2, Half Bath=1, Bedroom AbvGr=3, Kitchen AbvGr=1, Kitchen Qual='TA', TotRms AbvGrd=7, Garage Cars=2, Garage Area=440, Garage Cond='TA', Pool Area=0, Pool QC='Sp', Mo Sold=7, Yr Sold=2009, SalePrice=148500, square_meters_price=701.0763157894736)]"
      ]
     },
     "execution_count": 22,
     "metadata": {},
     "output_type": "execute_result"
    }
   ],
   "source": [
    "    # Lo primero será crear una nueva columna que contenga la información del precio por metro cuadrado\n",
    "data_precio = data.withColumn(\"square_meters_price\", data[\"SalePrice\"]/(data[\"Lot Area\"]/10.764))\n",
    "\n",
    "    # Lo siguiente será filtrar aquellas viviendas que se vendieron en el 2009 y seleccionar las 10 con un precio por metro\n",
    "    # cuadrado más elevado\n",
    "data_precio.filter(data_precio[\"Yr Sold\"] == 2009) \\\n",
    "           .sort(desc(\"square_meters_price\")) \\\n",
    "           .take(10)"
   ]
  },
  {
   "cell_type": "markdown",
   "metadata": {},
   "source": [
    "Si queremos saber solo el identificador y el precio:"
   ]
  },
  {
   "cell_type": "code",
   "execution_count": 23,
   "metadata": {},
   "outputs": [
    {
     "name": "stdout",
     "output_type": "stream",
     "text": [
      "+-----+-------------------+\n",
      "|Order|square_meters_price|\n",
      "+-----+-------------------+\n",
      "|  936|            1026.72|\n",
      "|  934|   991.040322580645|\n",
      "|  464|  821.0634920634919|\n",
      "|  935|  807.9677419354839|\n",
      "|  408|  765.6535714285715|\n",
      "|  407|  756.0428571428572|\n",
      "|  405|              717.6|\n",
      "|  933|  714.2873629544143|\n",
      "|  403|  711.1928571428572|\n",
      "|  411|  701.0763157894736|\n",
      "+-----+-------------------+\n",
      "only showing top 10 rows\n",
      "\n"
     ]
    }
   ],
   "source": [
    "data_precio.filter(data_precio[\"Yr Sold\"] == 2009) \\\n",
    "           .select(\"Order\", \"square_meters_price\") \\\n",
    "           .sort(desc(\"square_meters_price\")) \\\n",
    "           .show(10)"
   ]
  },
  {
   "cell_type": "markdown",
   "metadata": {},
   "source": [
    "## Media anual por zonas del precio de venta y metros cuadrados."
   ]
  },
  {
   "cell_type": "markdown",
   "metadata": {},
   "source": [
    "Para calcular la media del precio de venta y metros cuadrados por zonas, deberemos agrupar por estas dos variables usando un `groupBy()` y calcular la media de las variables *SalePrice* y *Lot Frontage*:"
   ]
  },
  {
   "cell_type": "code",
   "execution_count": 24,
   "metadata": {},
   "outputs": [
    {
     "name": "stdout",
     "output_type": "stream",
     "text": [
      "+-------+---------+------------------+-----------------------+\n",
      "|Yr Sold|MS Zoning|      Precio medio|Metros cuadrados medios|\n",
      "+-------+---------+------------------+-----------------------+\n",
      "|   2010|       RL|  184978.418972332|     1011.3513350753428|\n",
      "|   2010|       RM|119681.70689655172|      586.0995784159202|\n",
      "|   2010|       RH|          126280.0|      753.0286138981792|\n",
      "|   2009|       RH|          116206.8|      647.1386101820885|\n",
      "|   2009|       RM|118759.86904761905|       552.551715595194|\n",
      "|   2009|       RL|190455.55086372362|     1002.1761598161495|\n",
      "|   2008|       RL|189885.58515283844|     1047.6450695265964|\n",
      "|   2008|       RH|150333.33333333334|      766.1340270035922|\n",
      "|   2008|       RM| 133336.1219512195|      623.6642466759116|\n",
      "|   2007|       RH|          147250.0|      651.3145670754367|\n",
      "|   2007|       RL|193399.98014440434|     1059.6695831941474|\n",
      "|   2007|       RM|128947.62105263158|      625.4434860842186|\n",
      "|   2006|       RL|194911.28194726165|     1043.6802714781375|\n",
      "|   2006|       RH|140316.66666666666|      659.5596432552954|\n",
      "|   2006|       RM|127502.63725490196|      575.0094723879891|\n",
      "+-------+---------+------------------+-----------------------+\n",
      "\n"
     ]
    }
   ],
   "source": [
    "    # Filtramos por el año de venta y la zona y calculaos la media del precio y los pies cuadrados, luego renombramos las\n",
    "    # columnas y ordenamos de manera descente por el año de venta...\n",
    "data.groupBy(\"Yr Sold\", \"MS Zoning\").agg(avg(\"SalePrice\"),\n",
    "                                         avg((data[\"Lot Area\"]/10.764))) \\\n",
    "                                    .withColumnRenamed(\"avg(SalePrice)\", \"Precio medio\") \\\n",
    "                                    .withColumnRenamed(\"avg((Lot Area / 10.764))\", \"Metros cuadrados medios\") \\\n",
    "                                    .sort(desc(\"Yr Sold\")) \\\n",
    "                                    .show()"
   ]
  },
  {
   "cell_type": "markdown",
   "metadata": {},
   "source": [
    "## ¿Podrías decirme el total de recaudación de las casas de revistimiento (Mas Vnr Type) de piedra con respecto a las de ladrillo? ¿Hay diferencia significativa?"
   ]
  },
  {
   "cell_type": "markdown",
   "metadata": {},
   "source": [
    "Para saber si existe alguna diferencia entre la recaudación total de las casas con revestimiento de piedra (*Stone*) frente a las de la ladrillo (*BrkCmn* y *BrkFace*) realizaremos dos filtros:\n",
    "\n",
    "El primero de ellos, contendrá las casas con revestimiento en piedra y calcularemos la suma total de los precios. Mientras que el segundo, serán las casas de ladrillo, para este también calcularemos la suma total de los precios y observaremos si exsite una diferencia significativa..."
   ]
  },
  {
   "cell_type": "code",
   "execution_count": 25,
   "metadata": {},
   "outputs": [
    {
     "name": "stdout",
     "output_type": "stream",
     "text": [
      "+-------------------------------+\n",
      "|Recaudación viviendas en piedra|\n",
      "+-------------------------------+\n",
      "|                       60495477|\n",
      "+-------------------------------+\n",
      "\n"
     ]
    }
   ],
   "source": [
    "    # Comenzaremos por las casa de piedra\n",
    "casas_piedra = data.filter(data[\"Mas Vnr Type\"] == \"Stone\").select(\"SalePrice\")\n",
    "\n",
    "    # Calculamos la recaudación total de las casas con revestimiento de piedra\n",
    "recaudacion_casas_piedra = casas_piedra.groupBy().sum() \\\n",
    "                                       .withColumnRenamed(\"sum(SalePrice)\", \"Recaudación viviendas en piedra\")\n",
    "recaudacion_casas_piedra.show()"
   ]
  },
  {
   "cell_type": "code",
   "execution_count": 26,
   "metadata": {},
   "outputs": [
    {
     "name": "stdout",
     "output_type": "stream",
     "text": [
      "+---------------------------------+\n",
      "|Recaudación viviendas en ladrillo|\n",
      "+---------------------------------+\n",
      "|                        182918036|\n",
      "+---------------------------------+\n",
      "\n"
     ]
    }
   ],
   "source": [
    "    # En cuanto a las casas de ladrillo:\n",
    "casas_ladrillo = data.filter((data[\"Mas Vnr Type\"] == \"BrkCmn\") |\n",
    "                             (data[\"Mas Vnr Type\"] == \"BrkFace\")) \\\n",
    "                     .select(\"SalePrice\")\n",
    "\n",
    "    # Calculamos la recaudación total de las casas con revestimiento de ladrillo\n",
    "recaudacion_casas_ladrillo = casas_ladrillo.groupBy().sum() \\\n",
    "                                           .withColumnRenamed(\"sum(SalePrice)\", \"Recaudación viviendas en ladrillo\")\n",
    "recaudacion_casas_ladrillo.show()"
   ]
  },
  {
   "cell_type": "code",
   "execution_count": 27,
   "metadata": {},
   "outputs": [
    {
     "name": "stdout",
     "output_type": "stream",
     "text": [
      "+---------------------------------+-------------------------------+-----------------+\n",
      "|Recaudación viviendas en ladrillo|Recaudación viviendas en piedra|       Diferencia|\n",
      "+---------------------------------+-------------------------------+-----------------+\n",
      "|                        182918036|                       60495477|3.023664661739918|\n",
      "+---------------------------------+-------------------------------+-----------------+\n",
      "\n"
     ]
    }
   ],
   "source": [
    "    # Obtenemos la diferencia para saber cuántas veces más se recauda\n",
    "recaudacion_casas_ladrillo.join(recaudacion_casas_piedra) \\\n",
    "                          .withColumn(\"Diferencia\", \n",
    "                                      recaudacion_casas_ladrillo[\"Recaudación viviendas en ladrillo\"]/recaudacion_casas_piedra[\"Recaudación viviendas en piedra\"]) \\\n",
    "                          .show()"
   ]
  },
  {
   "cell_type": "markdown",
   "metadata": {},
   "source": [
    "Como podemos observar existe una diferencia significativa, ya que que la recaudación es más de 3 veces superior en las viviendas con un revestimiento en ladrillo."
   ]
  },
  {
   "cell_type": "markdown",
   "metadata": {},
   "source": [
    "## ¿Cuánto son más caras las viviendas con 2 cocinas, con 2 o más plazas de garaje que las que tienen 1 cocina y 1 plaza de garaje? Comparar medias y cuartiles de ambos casos"
   ]
  },
  {
   "cell_type": "markdown",
   "metadata": {},
   "source": [
    "Para saber la diferencia de precios entre las casas con 2 cocinas y dos o más plazas de garaje frente a las que tienen una cocina y una plaza de garaje filtraremos por estas dos condiciones, es decir, crearemos un DF llamado `casas_grandes` que contenga el precio de las viviendas con dos cocinas y dos o más plazas de garaje, y realizaremos lo mismo para las viviendas con una sola cocina y una plaza de garaje, este DF lo llamaremos `casas_peq`. Una vez tenemos los precios de las viviendas podemos calcular el precio medio, de manera que compararemos estos dos precios y obtengamos cuántas veces es más cara una casa grande frente a una pequeña. "
   ]
  },
  {
   "cell_type": "code",
   "execution_count": 28,
   "metadata": {},
   "outputs": [
    {
     "name": "stdout",
     "output_type": "stream",
     "text": [
      "+--------------------------+\n",
      "|Precio medio casas grandes|\n",
      "+--------------------------+\n",
      "|        145124.27906976745|\n",
      "+--------------------------+\n",
      "\n"
     ]
    }
   ],
   "source": [
    "    # Viviendas con 2 cocinas y con dos o más plazas de garaje\n",
    "casas_grandes = data.filter((data[\"Kitchen AbvGr\"] == 2) &\n",
    "                            (data[\"Garage Cars\"] >= 2)).select(\"SalePrice\")\n",
    "\n",
    "    # Obtenemos el precio medio\n",
    "precio_medio_casas_grandes = casas_grandes.groupBy().agg(avg(\"SalePrice\")) \\\n",
    "                                          .withColumnRenamed(\"avg(SalePrice)\", \"Precio medio casas grandes\")\n",
    "precio_medio_casas_grandes.show()"
   ]
  },
  {
   "cell_type": "markdown",
   "metadata": {},
   "source": [
    "Como podemos observaer el precio medio de las casas grandes de 145124.27 dólares."
   ]
  },
  {
   "cell_type": "code",
   "execution_count": 29,
   "metadata": {},
   "outputs": [
    {
     "data": {
      "text/plain": [
       "[118964.0, 141000.0, 159000.0]"
      ]
     },
     "execution_count": 29,
     "metadata": {},
     "output_type": "execute_result"
    }
   ],
   "source": [
    "    # Cuartiles de las casas grandes\n",
    "casas_grandes.approxQuantile(\"SalePrice\", [0.25, 0.5, 0.75], 0)"
   ]
  },
  {
   "cell_type": "code",
   "execution_count": 30,
   "metadata": {},
   "outputs": [
    {
     "name": "stdout",
     "output_type": "stream",
     "text": [
      "+----------------------+\n",
      "|Precio medio casas peq|\n",
      "+----------------------+\n",
      "|    128121.99337748345|\n",
      "+----------------------+\n",
      "\n"
     ]
    }
   ],
   "source": [
    "    # Viviendas con 1 cocina y con 1 plaza de garaje\n",
    "casas_peq = data.filter((data[\"Kitchen AbvGr\"] == 1) &\n",
    "                            (data[\"Garage Cars\"] == 1)).select(\"SalePrice\")\n",
    "\n",
    "    # Obtenemos el precio medio\n",
    "precio_medio_casas_peq = casas_peq.groupBy().agg(avg(\"SalePrice\")) \\\n",
    "                                      .withColumnRenamed(\"avg(SalePrice)\", \"Precio medio casas peq\")\n",
    "precio_medio_casas_peq.show()"
   ]
  },
  {
   "cell_type": "markdown",
   "metadata": {},
   "source": [
    "El precio medio de las casas pequeñas de 128121.99 dólares."
   ]
  },
  {
   "cell_type": "code",
   "execution_count": 31,
   "metadata": {},
   "outputs": [
    {
     "data": {
      "text/plain": [
       "[111500.0, 128000.0, 142125.0]"
      ]
     },
     "execution_count": 31,
     "metadata": {},
     "output_type": "execute_result"
    }
   ],
   "source": [
    "    # Cuartiles de las casas grandes\n",
    "casas_peq.approxQuantile(\"SalePrice\", [0.25, 0.5, 0.75], 0)"
   ]
  },
  {
   "cell_type": "code",
   "execution_count": 32,
   "metadata": {},
   "outputs": [
    {
     "name": "stdout",
     "output_type": "stream",
     "text": [
      "+--------------------------+----------------------+------------------+\n",
      "|Precio medio casas grandes|Precio medio casas peq|        Diferencia|\n",
      "+--------------------------+----------------------+------------------+\n",
      "|        145124.27906976745|    128121.99337748345|1.1327038804508018|\n",
      "+--------------------------+----------------------+------------------+\n",
      "\n"
     ]
    }
   ],
   "source": [
    "    # Obtenemos la diferencia para saber cuántas veces más caras son las casas grandes\n",
    "precio_medio_casas_grandes.join(precio_medio_casas_peq) \\\n",
    "                          .withColumn(\"Diferencia\", \n",
    "                                      precio_medio_casas_grandes[\"Precio medio casas grandes\"]/precio_medio_casas_peq[\"Precio medio casas peq\"]) \\\n",
    "                          .show()"
   ]
  },
  {
   "cell_type": "markdown",
   "metadata": {},
   "source": [
    "Como podemos observar la diferencia entre las viviendas es de un 13%."
   ]
  },
  {
   "cell_type": "markdown",
   "metadata": {},
   "source": [
    "## (COMPLEMENTARIA) Estudiar la relación entre el precio y el número de Garajes. (Recomiendo segmentar precio por cuartiles y estudiar el número de casos coincidentes)"
   ]
  },
  {
   "cell_type": "markdown",
   "metadata": {},
   "source": [
    "Si queremos estudiar la relación existente entre el precio y las plazas de garaje de las viviendas, podemos estudiar dicha relación mediante la correlación de pearson, para ello, utilizaremos la función `stat.coor()` del paquete `ml.stat`. Además plotearemos el resultado con un scatter plot."
   ]
  },
  {
   "cell_type": "code",
   "execution_count": 33,
   "metadata": {},
   "outputs": [
    {
     "data": {
      "text/plain": [
       "0.6456766716984054"
      ]
     },
     "execution_count": 33,
     "metadata": {},
     "output_type": "execute_result"
    }
   ],
   "source": [
    "from pyspark.ml.stat import Correlation\n",
    "data.stat.corr(\"Garage Cars\", \"SalePrice\")"
   ]
  },
  {
   "cell_type": "markdown",
   "metadata": {},
   "source": [
    "Como podemos observar tenemos una correlación de 0.64, lo cual nos indica que puede existe cierta relación entre el precio de venta y el número de garajes, esto tiene sentido, ya que cuatas más plazas de garaje tiene una casa su precio suele aumentar. Para verlo con más claridad podemos realizar un diagrama de dispersión:"
   ]
  },
  {
   "cell_type": "code",
   "execution_count": 34,
   "metadata": {},
   "outputs": [
    {
     "data": {
      "image/png": "[encoded data removed]",
      "text/plain": [
       "<Figure size 432x288 with 1 Axes>"
      ]
     },
     "metadata": {
      "needs_background": "light"
     },
     "output_type": "display_data"
    }
   ],
   "source": [
    "    # Importamos pandas\n",
    "import pandas as pd\n",
    "    \n",
    "    # Pasamos el dataset anterior a formato pantas para plotearlo\n",
    "pandas_dataset = data.toPandas()\n",
    "\n",
    "    # Ploteamos el scatterplot\n",
    "pandas_dataset.plot.scatter(x=\"Garage Cars\", y=\"SalePrice\");"
   ]
  },
  {
   "cell_type": "markdown",
   "metadata": {},
   "source": [
    "Como vemos existe una relación entre el precio y los garajes... Aun así, segmentaremos por cuartiles para ver si ocurre esto entre las distintas franjas de precios:"
   ]
  },
  {
   "cell_type": "code",
   "execution_count": 35,
   "metadata": {},
   "outputs": [
    {
     "data": {
      "text/plain": [
       "[129000.0, 159000.0, 212000.0]"
      ]
     },
     "execution_count": 35,
     "metadata": {},
     "output_type": "execute_result"
    }
   ],
   "source": [
    "    # Obtenemos los precios por cuartiles:\n",
    "data.approxQuantile(\"SalePrice\", [0.25, 0.5, 0.75], 0)"
   ]
  },
  {
   "cell_type": "markdown",
   "metadata": {},
   "source": [
    "`Primer cuartil: precio inferior a 129000`"
   ]
  },
  {
   "cell_type": "code",
   "execution_count": 36,
   "metadata": {},
   "outputs": [
    {
     "data": {
      "text/plain": [
       "0.25011221883816237"
      ]
     },
     "execution_count": 36,
     "metadata": {},
     "output_type": "execute_result"
    }
   ],
   "source": [
    "    # Filtramos las viviendas con un precio inferior a 129000\n",
    "data.filter(data[\"SalePrice\"] < 129000).stat.corr(\"Garage Cars\", \"SalePrice\")"
   ]
  },
  {
   "cell_type": "code",
   "execution_count": 37,
   "metadata": {},
   "outputs": [
    {
     "data": {
      "image/png": "[encoded data removed]",
      "text/plain": [
       "<Figure size 432x288 with 1 Axes>"
      ]
     },
     "metadata": {
      "needs_background": "light"
     },
     "output_type": "display_data"
    }
   ],
   "source": [
    "    # Pasamos el dataset anterior a formato pantas para plotearlo\n",
    "pandas_dataset = data.filter(data[\"SalePrice\"] < 129000).toPandas()\n",
    "\n",
    "    # Ploteamos el scatterplot\n",
    "pandas_dataset.plot.scatter(x=\"Garage Cars\", y=\"SalePrice\");"
   ]
  },
  {
   "cell_type": "markdown",
   "metadata": {},
   "source": [
    "En este caso vemos como la correlación es muy baja, por lo tanto, en casas de precios bajos no se producirá esta relación."
   ]
  },
  {
   "cell_type": "markdown",
   "metadata": {},
   "source": [
    "`Segundo cuartil: precio entre 129000 y 159000`"
   ]
  },
  {
   "cell_type": "code",
   "execution_count": 38,
   "metadata": {},
   "outputs": [
    {
     "data": {
      "text/plain": [
       "0.18281911444239085"
      ]
     },
     "execution_count": 38,
     "metadata": {},
     "output_type": "execute_result"
    }
   ],
   "source": [
    "    # Filtramos las viviendas con los precios establecidos\n",
    "data.filter((129000 < data[\"SalePrice\"]) & (data[\"SalePrice\"] < 159000)).stat.corr(\"Garage Cars\", \"SalePrice\")"
   ]
  },
  {
   "cell_type": "code",
   "execution_count": 39,
   "metadata": {},
   "outputs": [
    {
     "data": {
      "image/png": "[encoded data removed]",
      "text/plain": [
       "<Figure size 432x288 with 1 Axes>"
      ]
     },
     "metadata": {
      "needs_background": "light"
     },
     "output_type": "display_data"
    }
   ],
   "source": [
    "    # Pasamos el dataset anterior a formato pantas para plotearlo\n",
    "pandas_dataset = data.filter((129000 < data[\"SalePrice\"]) & (data[\"SalePrice\"] < 159000)).toPandas()\n",
    "\n",
    "    # Ploteamos el scatterplot\n",
    "pandas_dataset.plot.scatter(x=\"Garage Cars\", y=\"SalePrice\");"
   ]
  },
  {
   "cell_type": "markdown",
   "metadata": {},
   "source": [
    "En esta banda de precios ocurre los mismo, podemos ver como casi todas las viviendas comprendidas entre 130000 y 160000 dólares tienen una o dos plazas de garaje."
   ]
  },
  {
   "cell_type": "markdown",
   "metadata": {},
   "source": [
    "`Tercer cuartil: precio entre 159000 y 212000`"
   ]
  },
  {
   "cell_type": "code",
   "execution_count": 40,
   "metadata": {},
   "outputs": [
    {
     "data": {
      "text/plain": [
       "0.17319082711225858"
      ]
     },
     "execution_count": 40,
     "metadata": {},
     "output_type": "execute_result"
    }
   ],
   "source": [
    "    # Filtramos las viviendas con los precios establecidos\n",
    "data.filter((159000 < data[\"SalePrice\"]) & (data[\"SalePrice\"] < 212000)).stat.corr(\"Garage Cars\", \"SalePrice\")"
   ]
  },
  {
   "cell_type": "code",
   "execution_count": 41,
   "metadata": {},
   "outputs": [
    {
     "data": {
      "image/png": "[encoded data removed]",
      "text/plain": [
       "<Figure size 432x288 with 1 Axes>"
      ]
     },
     "metadata": {
      "needs_background": "light"
     },
     "output_type": "display_data"
    }
   ],
   "source": [
    "    # Pasamos el dataset anterior a formato pantas para plotearlo\n",
    "pandas_dataset = data.filter((159000 < data[\"SalePrice\"]) & (data[\"SalePrice\"] < 212000)).toPandas()\n",
    "\n",
    "    # Ploteamos el scatterplot\n",
    "pandas_dataset.plot.scatter(x=\"Garage Cars\", y=\"SalePrice\");"
   ]
  },
  {
   "cell_type": "markdown",
   "metadata": {},
   "source": [
    "En este caso, podemos ver como las casas con precios entre 160000 dólares y 210000 dólares suelen tener dos plazas de garaje, lo que produce que la correlación sea prácticamente nula."
   ]
  },
  {
   "cell_type": "markdown",
   "metadata": {},
   "source": [
    "`Cuarto cuartil: precio superior a 212000`"
   ]
  },
  {
   "cell_type": "code",
   "execution_count": 42,
   "metadata": {},
   "outputs": [
    {
     "data": {
      "text/plain": [
       "0.4511001505759936"
      ]
     },
     "execution_count": 42,
     "metadata": {},
     "output_type": "execute_result"
    }
   ],
   "source": [
    "    # Filtramos las viviendas con los precios establecidos\n",
    "data.filter((data[\"SalePrice\"] > 212000)).stat.corr(\"Garage Cars\", \"SalePrice\")"
   ]
  },
  {
   "cell_type": "code",
   "execution_count": 43,
   "metadata": {},
   "outputs": [
    {
     "data": {
      "image/png": "[encoded data removed]",
      "text/plain": [
       "<Figure size 432x288 with 1 Axes>"
      ]
     },
     "metadata": {
      "needs_background": "light"
     },
     "output_type": "display_data"
    }
   ],
   "source": [
    "    # Pasamos el dataset anterior a formato pantas para plotearlo\n",
    "pandas_dataset = data.filter((data[\"SalePrice\"] > 212000)).toPandas()\n",
    "\n",
    "    # Ploteamos el scatterplot\n",
    "pandas_dataset.plot.scatter(x=\"Garage Cars\", y=\"SalePrice\");"
   ]
  },
  {
   "cell_type": "markdown",
   "metadata": {},
   "source": [
    "En este caso si vemos una clara correlación, ya que las casas más caras, las que superan el medio millón de dólares son las que suelen tener más de dos plazas de garaje."
   ]
  },
  {
   "cell_type": "markdown",
   "metadata": {},
   "source": [
    "## (COMPLEMENTARIA) Las 10 viviendas con mejores servicios y mejor precio."
   ]
  },
  {
   "cell_type": "markdown",
   "metadata": {},
   "source": [
    "### Pista:\n",
    "#### Calcula las variables: \n",
    "- Número de servicios excelentes\n",
    "- Número de servicios buenos\n",
    "...\n",
    "\n",
    "#### Tendréis que tener en cuenta también variables como número de baños Full Bath, cocinas Kitchen AbvGr o dormitorios Bedroom AbvGr. Generando por ejemplo (número de estas variables por encima de media)\n",
    "\n",
    "#### Finalmente precio de venta"
   ]
  },
  {
   "cell_type": "markdown",
   "metadata": {},
   "source": [
    "***"
   ]
  },
  {
   "cell_type": "code",
   "execution_count": 44,
   "metadata": {},
   "outputs": [],
   "source": [
    "    # Finalizamos spark context\n",
    "sc.stop()"
   ]
  }
 ],
 "metadata": {
  "kernelspec": {
   "display_name": "Python 3",
   "language": "python",
   "name": "python3"
  },
  "language_info": {
   "codemirror_mode": {
    "name": "ipython",
    "version": 3
   },
   "file_extension": ".py",
   "mimetype": "text/x-python",
   "name": "python",
   "nbconvert_exporter": "python",
   "pygments_lexer": "ipython3",
   "version": "3.8.5"
  },
  "toc": {
   "base_numbering": 1,
   "nav_menu": {},
   "number_sections": true,
   "sideBar": true,
   "skip_h1_title": false,
   "title_cell": "Table of Contents",
   "title_sidebar": "Contents",
   "toc_cell": false,
   "toc_position": {},
   "toc_section_display": true,
   "toc_window_display": true
  }
 },
 "nbformat": 4,
 "nbformat_minor": 2
}
